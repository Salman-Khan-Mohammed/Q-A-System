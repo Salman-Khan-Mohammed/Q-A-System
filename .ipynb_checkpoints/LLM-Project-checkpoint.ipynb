{
 "cells": [
  {
   "cell_type": "markdown",
   "id": "e9abc24e-c20d-4c9a-94fc-c31a7e548ce0",
   "metadata": {},
   "source": [
    "## LLM project based on real life used case of Equity Research Analysis"
   ]
  },
  {
   "cell_type": "markdown",
   "id": "8adbda59-85e3-49ce-8ef0-244fa5e1066f",
   "metadata": {},
   "source": [
    "## Building a News Research Tool \n",
    "Where we can give bunch of urls of articles and when we ask a question it will retrieve an answer and the show the article link from which it got the answer based on the articles\n",
    "\n",
    "In easy terms we are building a tool for reasearch analysts who reads the leangthy stock market articles for their research from bunch of resourcces like moneycontrol, The economics times, bloomberg terminal so for this we are going to create a chatbot like thing which will answer the questions based on the articles and also if needed it can also summarizes those articles "
   ]
  },
  {
   "cell_type": "markdown",
   "id": "8b14df98-4fe0-47e0-b708-c6dd27e542ae",
   "metadata": {},
   "source": [
    "## Technologies : - \n",
    "LangChain\n",
    "OpenAI\n",
    "StreamLit\n",
    "\n"
   ]
  },
  {
   "cell_type": "markdown",
   "id": "2f683acf-4a6c-4f78-b70b-7dad3fa732e5",
   "metadata": {},
   "source": [
    "## Why don't we use chatgpt for this task ? "
   ]
  },
  {
   "cell_type": "markdown",
   "id": "66598e4e-a75d-4611-b631-2f869475b76d",
   "metadata": {},
   "source": [
    "## there are 3 reasons why we are not using chatgpt for this task :-\n",
    "1) Copy pasting articles in chatGPT is tedious// copy pasting articles this might be time consuming as we need to copy paste each and every article in the chatgpt\n",
    "2) we need an aggregate knowledge base// when we are asking chatgpt we don't know which article has the answer and some answers might be spread over different articles \n",
    "3) the third reason would be word limit // ChatGpt has a word limit of 3000 words per request\n"
   ]
  },
  {
   "cell_type": "markdown",
   "id": "f9060be9-a8d5-44a3-86c1-aa4a1302e9f0",
   "metadata": {},
   "source": [
    "### Installing LangChain"
   ]
  },
  {
   "cell_type": "code",
   "execution_count": 6,
   "id": "849ae5c0-dbae-4461-b11f-75129932f3d0",
   "metadata": {},
   "outputs": [
    {
     "name": "stdout",
     "output_type": "stream",
     "text": [
      "Requirement already satisfied: langchain in /opt/homebrew/anaconda3/lib/python3.11/site-packages (0.2.7)\n",
      "Requirement already satisfied: PyYAML>=5.3 in /opt/homebrew/anaconda3/lib/python3.11/site-packages (from langchain) (6.0.1)\n",
      "Requirement already satisfied: SQLAlchemy<3,>=1.4 in /opt/homebrew/anaconda3/lib/python3.11/site-packages (from langchain) (2.0.25)\n",
      "Requirement already satisfied: aiohttp<4.0.0,>=3.8.3 in /opt/homebrew/anaconda3/lib/python3.11/site-packages (from langchain) (3.9.3)\n",
      "Requirement already satisfied: langchain-core<0.3.0,>=0.2.12 in /opt/homebrew/anaconda3/lib/python3.11/site-packages (from langchain) (0.2.12)\n",
      "Requirement already satisfied: langchain-text-splitters<0.3.0,>=0.2.0 in /opt/homebrew/anaconda3/lib/python3.11/site-packages (from langchain) (0.2.2)\n",
      "Requirement already satisfied: langsmith<0.2.0,>=0.1.17 in /opt/homebrew/anaconda3/lib/python3.11/site-packages (from langchain) (0.1.84)\n",
      "Requirement already satisfied: numpy<2,>=1 in /opt/homebrew/anaconda3/lib/python3.11/site-packages (from langchain) (1.24.4)\n",
      "Requirement already satisfied: pydantic<3,>=1 in /opt/homebrew/anaconda3/lib/python3.11/site-packages (from langchain) (1.10.12)\n",
      "Requirement already satisfied: requests<3,>=2 in /opt/homebrew/anaconda3/lib/python3.11/site-packages (from langchain) (2.31.0)\n",
      "Requirement already satisfied: tenacity!=8.4.0,<9.0.0,>=8.1.0 in /opt/homebrew/anaconda3/lib/python3.11/site-packages (from langchain) (8.2.2)\n",
      "Requirement already satisfied: aiosignal>=1.1.2 in /opt/homebrew/anaconda3/lib/python3.11/site-packages (from aiohttp<4.0.0,>=3.8.3->langchain) (1.2.0)\n",
      "Requirement already satisfied: attrs>=17.3.0 in /opt/homebrew/anaconda3/lib/python3.11/site-packages (from aiohttp<4.0.0,>=3.8.3->langchain) (23.2.0)\n",
      "Requirement already satisfied: frozenlist>=1.1.1 in /opt/homebrew/anaconda3/lib/python3.11/site-packages (from aiohttp<4.0.0,>=3.8.3->langchain) (1.4.0)\n",
      "Requirement already satisfied: multidict<7.0,>=4.5 in /opt/homebrew/anaconda3/lib/python3.11/site-packages (from aiohttp<4.0.0,>=3.8.3->langchain) (6.0.4)\n",
      "Requirement already satisfied: yarl<2.0,>=1.0 in /opt/homebrew/anaconda3/lib/python3.11/site-packages (from aiohttp<4.0.0,>=3.8.3->langchain) (1.9.3)\n",
      "Requirement already satisfied: jsonpatch<2.0,>=1.33 in /opt/homebrew/anaconda3/lib/python3.11/site-packages (from langchain-core<0.3.0,>=0.2.12->langchain) (1.33)\n",
      "Requirement already satisfied: packaging<25,>=23.2 in /opt/homebrew/anaconda3/lib/python3.11/site-packages (from langchain-core<0.3.0,>=0.2.12->langchain) (24.1)\n",
      "Requirement already satisfied: orjson<4.0.0,>=3.9.14 in /opt/homebrew/anaconda3/lib/python3.11/site-packages (from langsmith<0.2.0,>=0.1.17->langchain) (3.10.6)\n",
      "Requirement already satisfied: typing-extensions>=4.2.0 in /opt/homebrew/anaconda3/lib/python3.11/site-packages (from pydantic<3,>=1->langchain) (4.9.0)\n",
      "Requirement already satisfied: charset-normalizer<4,>=2 in /opt/homebrew/anaconda3/lib/python3.11/site-packages (from requests<3,>=2->langchain) (2.0.4)\n",
      "Requirement already satisfied: idna<4,>=2.5 in /opt/homebrew/anaconda3/lib/python3.11/site-packages (from requests<3,>=2->langchain) (3.4)\n",
      "Requirement already satisfied: urllib3<3,>=1.21.1 in /opt/homebrew/anaconda3/lib/python3.11/site-packages (from requests<3,>=2->langchain) (2.0.7)\n",
      "Requirement already satisfied: certifi>=2017.4.17 in /opt/homebrew/anaconda3/lib/python3.11/site-packages (from requests<3,>=2->langchain) (2024.2.2)\n",
      "Requirement already satisfied: jsonpointer>=1.9 in /opt/homebrew/anaconda3/lib/python3.11/site-packages (from jsonpatch<2.0,>=1.33->langchain-core<0.3.0,>=0.2.12->langchain) (2.1)\n",
      "Note: you may need to restart the kernel to use updated packages.\n"
     ]
    }
   ],
   "source": [
    "pip install langchain"
   ]
  },
  {
   "cell_type": "code",
   "execution_count": 8,
   "id": "30e1ae40-f2bc-4873-8cd6-85c70b063930",
   "metadata": {},
   "outputs": [
    {
     "name": "stdout",
     "output_type": "stream",
     "text": [
      "Collecting langchain-community\n",
      "  Downloading langchain_community-0.2.7-py3-none-any.whl.metadata (2.5 kB)\n",
      "Requirement already satisfied: PyYAML>=5.3 in /opt/homebrew/anaconda3/lib/python3.11/site-packages (from langchain-community) (6.0.1)\n",
      "Requirement already satisfied: SQLAlchemy<3,>=1.4 in /opt/homebrew/anaconda3/lib/python3.11/site-packages (from langchain-community) (2.0.25)\n",
      "Requirement already satisfied: aiohttp<4.0.0,>=3.8.3 in /opt/homebrew/anaconda3/lib/python3.11/site-packages (from langchain-community) (3.9.3)\n",
      "Collecting dataclasses-json<0.7,>=0.5.7 (from langchain-community)\n",
      "  Downloading dataclasses_json-0.6.7-py3-none-any.whl.metadata (25 kB)\n",
      "Requirement already satisfied: langchain<0.3.0,>=0.2.7 in /opt/homebrew/anaconda3/lib/python3.11/site-packages (from langchain-community) (0.2.7)\n",
      "Requirement already satisfied: langchain-core<0.3.0,>=0.2.12 in /opt/homebrew/anaconda3/lib/python3.11/site-packages (from langchain-community) (0.2.12)\n",
      "Requirement already satisfied: langsmith<0.2.0,>=0.1.0 in /opt/homebrew/anaconda3/lib/python3.11/site-packages (from langchain-community) (0.1.84)\n",
      "Requirement already satisfied: numpy<2,>=1 in /opt/homebrew/anaconda3/lib/python3.11/site-packages (from langchain-community) (1.24.4)\n",
      "Requirement already satisfied: requests<3,>=2 in /opt/homebrew/anaconda3/lib/python3.11/site-packages (from langchain-community) (2.31.0)\n",
      "Requirement already satisfied: tenacity!=8.4.0,<9.0.0,>=8.1.0 in /opt/homebrew/anaconda3/lib/python3.11/site-packages (from langchain-community) (8.2.2)\n",
      "Requirement already satisfied: aiosignal>=1.1.2 in /opt/homebrew/anaconda3/lib/python3.11/site-packages (from aiohttp<4.0.0,>=3.8.3->langchain-community) (1.2.0)\n",
      "Requirement already satisfied: attrs>=17.3.0 in /opt/homebrew/anaconda3/lib/python3.11/site-packages (from aiohttp<4.0.0,>=3.8.3->langchain-community) (23.2.0)\n",
      "Requirement already satisfied: frozenlist>=1.1.1 in /opt/homebrew/anaconda3/lib/python3.11/site-packages (from aiohttp<4.0.0,>=3.8.3->langchain-community) (1.4.0)\n",
      "Requirement already satisfied: multidict<7.0,>=4.5 in /opt/homebrew/anaconda3/lib/python3.11/site-packages (from aiohttp<4.0.0,>=3.8.3->langchain-community) (6.0.4)\n",
      "Requirement already satisfied: yarl<2.0,>=1.0 in /opt/homebrew/anaconda3/lib/python3.11/site-packages (from aiohttp<4.0.0,>=3.8.3->langchain-community) (1.9.3)\n",
      "Collecting marshmallow<4.0.0,>=3.18.0 (from dataclasses-json<0.7,>=0.5.7->langchain-community)\n",
      "  Downloading marshmallow-3.21.3-py3-none-any.whl.metadata (7.1 kB)\n",
      "Collecting typing-inspect<1,>=0.4.0 (from dataclasses-json<0.7,>=0.5.7->langchain-community)\n",
      "  Downloading typing_inspect-0.9.0-py3-none-any.whl.metadata (1.5 kB)\n",
      "Requirement already satisfied: langchain-text-splitters<0.3.0,>=0.2.0 in /opt/homebrew/anaconda3/lib/python3.11/site-packages (from langchain<0.3.0,>=0.2.7->langchain-community) (0.2.2)\n",
      "Requirement already satisfied: pydantic<3,>=1 in /opt/homebrew/anaconda3/lib/python3.11/site-packages (from langchain<0.3.0,>=0.2.7->langchain-community) (1.10.12)\n",
      "Requirement already satisfied: jsonpatch<2.0,>=1.33 in /opt/homebrew/anaconda3/lib/python3.11/site-packages (from langchain-core<0.3.0,>=0.2.12->langchain-community) (1.33)\n",
      "Requirement already satisfied: packaging<25,>=23.2 in /opt/homebrew/anaconda3/lib/python3.11/site-packages (from langchain-core<0.3.0,>=0.2.12->langchain-community) (24.1)\n",
      "Requirement already satisfied: orjson<4.0.0,>=3.9.14 in /opt/homebrew/anaconda3/lib/python3.11/site-packages (from langsmith<0.2.0,>=0.1.0->langchain-community) (3.10.6)\n",
      "Requirement already satisfied: charset-normalizer<4,>=2 in /opt/homebrew/anaconda3/lib/python3.11/site-packages (from requests<3,>=2->langchain-community) (2.0.4)\n",
      "Requirement already satisfied: idna<4,>=2.5 in /opt/homebrew/anaconda3/lib/python3.11/site-packages (from requests<3,>=2->langchain-community) (3.4)\n",
      "Requirement already satisfied: urllib3<3,>=1.21.1 in /opt/homebrew/anaconda3/lib/python3.11/site-packages (from requests<3,>=2->langchain-community) (2.0.7)\n",
      "Requirement already satisfied: certifi>=2017.4.17 in /opt/homebrew/anaconda3/lib/python3.11/site-packages (from requests<3,>=2->langchain-community) (2024.2.2)\n",
      "Requirement already satisfied: typing-extensions>=4.6.0 in /opt/homebrew/anaconda3/lib/python3.11/site-packages (from SQLAlchemy<3,>=1.4->langchain-community) (4.9.0)\n",
      "Requirement already satisfied: jsonpointer>=1.9 in /opt/homebrew/anaconda3/lib/python3.11/site-packages (from jsonpatch<2.0,>=1.33->langchain-core<0.3.0,>=0.2.12->langchain-community) (2.1)\n",
      "Requirement already satisfied: mypy-extensions>=0.3.0 in /opt/homebrew/anaconda3/lib/python3.11/site-packages (from typing-inspect<1,>=0.4.0->dataclasses-json<0.7,>=0.5.7->langchain-community) (1.0.0)\n",
      "Downloading langchain_community-0.2.7-py3-none-any.whl (2.2 MB)\n",
      "\u001b[2K   \u001b[90m━━━━━━━━━━━━━━━━━━━━━━━━━━━━━━━━━━━━━━━━\u001b[0m \u001b[32m2.2/2.2 MB\u001b[0m \u001b[31m16.7 MB/s\u001b[0m eta \u001b[36m0:00:00\u001b[0ma \u001b[36m0:00:01\u001b[0m\n",
      "\u001b[?25hDownloading dataclasses_json-0.6.7-py3-none-any.whl (28 kB)\n",
      "Downloading marshmallow-3.21.3-py3-none-any.whl (49 kB)\n",
      "\u001b[2K   \u001b[90m━━━━━━━━━━━━━━━━━━━━━━━━━━━━━━━━━━━━━━━━\u001b[0m \u001b[32m49.2/49.2 kB\u001b[0m \u001b[31m6.1 MB/s\u001b[0m eta \u001b[36m0:00:00\u001b[0m\n",
      "\u001b[?25hDownloading typing_inspect-0.9.0-py3-none-any.whl (8.8 kB)\n",
      "Installing collected packages: typing-inspect, marshmallow, dataclasses-json, langchain-community\n",
      "Successfully installed dataclasses-json-0.6.7 langchain-community-0.2.7 marshmallow-3.21.3 typing-inspect-0.9.0\n",
      "Note: you may need to restart the kernel to use updated packages.\n"
     ]
    }
   ],
   "source": [
    "pip install -U langchain-community"
   ]
  },
  {
   "cell_type": "code",
   "execution_count": 9,
   "id": "5cc0c9d0-7f1d-4a29-bbb2-13fec682f58d",
   "metadata": {},
   "outputs": [],
   "source": [
    "from langchain.document_loaders import TextLoader"
   ]
  },
  {
   "cell_type": "code",
   "execution_count": 5,
   "id": "84577e4c-b8dc-4e9c-b88f-d550317c61a5",
   "metadata": {},
   "outputs": [
    {
     "name": "stdout",
     "output_type": "stream",
     "text": [
      "Collecting libmagic\n",
      "  Using cached libmagic-1.0.tar.gz (3.7 kB)\n",
      "  Preparing metadata (setup.py) ... \u001b[?25ldone\n",
      "\u001b[?25hBuilding wheels for collected packages: libmagic\n",
      "  Building wheel for libmagic (setup.py) ... \u001b[?25ldone\n",
      "\u001b[?25h  Created wheel for libmagic: filename=libmagic-1.0-py3-none-any.whl size=4267 sha256=4c046799a6f69e8c0391a4b0a34b1991892863cb780e4c884929717d9873ee27\n",
      "  Stored in directory: /Users/salmanmohamm3d/Library/Caches/pip/wheels/3e/35/13/53c696ff5f3523479505ec5ed4156198671fb598fe678178bf\n",
      "Successfully built libmagic\n",
      "Installing collected packages: libmagic\n",
      "Successfully installed libmagic-1.0\n",
      "Note: you may need to restart the kernel to use updated packages.\n"
     ]
    }
   ],
   "source": [
    "pip install libmagic\n"
   ]
  },
  {
   "cell_type": "code",
   "execution_count": 6,
   "id": "68165abc-5368-4335-9d05-d398a6e1dc80",
   "metadata": {},
   "outputs": [
    {
     "name": "stdout",
     "output_type": "stream",
     "text": [
      "Collecting python-magic\n",
      "  Using cached python_magic-0.4.27-py2.py3-none-any.whl.metadata (5.8 kB)\n",
      "Downloading python_magic-0.4.27-py2.py3-none-any.whl (13 kB)\n",
      "Installing collected packages: python-magic\n",
      "Successfully installed python-magic-0.4.27\n",
      "Note: you may need to restart the kernel to use updated packages.\n"
     ]
    }
   ],
   "source": [
    "pip install python-magic\n"
   ]
  },
  {
   "cell_type": "code",
   "execution_count": 7,
   "id": "370a378a-91b4-4f88-9a15-ff4bd5e0dc01",
   "metadata": {},
   "outputs": [
    {
     "name": "stdout",
     "output_type": "stream",
     "text": [
      "Collecting unstructured\n",
      "  Using cached unstructured-0.14.10-py3-none-any.whl.metadata (29 kB)\n",
      "Requirement already satisfied: chardet in /opt/homebrew/anaconda3/lib/python3.11/site-packages (from unstructured) (4.0.0)\n",
      "Collecting filetype (from unstructured)\n",
      "  Downloading filetype-1.2.0-py2.py3-none-any.whl.metadata (6.5 kB)\n",
      "Requirement already satisfied: python-magic in /opt/homebrew/anaconda3/lib/python3.11/site-packages (from unstructured) (0.4.27)\n",
      "Requirement already satisfied: lxml in /opt/homebrew/anaconda3/lib/python3.11/site-packages (from unstructured) (4.9.3)\n",
      "Requirement already satisfied: nltk in /opt/homebrew/anaconda3/lib/python3.11/site-packages (from unstructured) (3.8.1)\n",
      "Requirement already satisfied: tabulate in /opt/homebrew/anaconda3/lib/python3.11/site-packages (from unstructured) (0.9.0)\n",
      "Requirement already satisfied: requests in /opt/homebrew/anaconda3/lib/python3.11/site-packages (from unstructured) (2.31.0)\n",
      "Requirement already satisfied: beautifulsoup4 in /opt/homebrew/anaconda3/lib/python3.11/site-packages (from unstructured) (4.12.2)\n",
      "Collecting emoji (from unstructured)\n",
      "  Downloading emoji-2.12.1-py3-none-any.whl.metadata (5.4 kB)\n",
      "Requirement already satisfied: dataclasses-json in /opt/homebrew/anaconda3/lib/python3.11/site-packages (from unstructured) (0.6.7)\n",
      "Collecting python-iso639 (from unstructured)\n",
      "  Downloading python_iso639-2024.4.27-py3-none-any.whl.metadata (13 kB)\n",
      "Collecting langdetect (from unstructured)\n",
      "  Downloading langdetect-1.0.9.tar.gz (981 kB)\n",
      "\u001b[2K     \u001b[90m━━━━━━━━━━━━━━━━━━━━━━━━━━━━━━━━━━━━━━\u001b[0m \u001b[32m981.5/981.5 kB\u001b[0m \u001b[31m14.8 MB/s\u001b[0m eta \u001b[36m0:00:00\u001b[0ma \u001b[36m0:00:01\u001b[0m\n",
      "\u001b[?25h  Preparing metadata (setup.py) ... \u001b[?25ldone\n",
      "\u001b[?25hRequirement already satisfied: numpy<2 in /opt/homebrew/anaconda3/lib/python3.11/site-packages (from unstructured) (1.24.4)\n",
      "Collecting rapidfuzz (from unstructured)\n",
      "  Downloading rapidfuzz-3.9.4-cp311-cp311-macosx_11_0_arm64.whl.metadata (12 kB)\n",
      "Collecting backoff (from unstructured)\n",
      "  Downloading backoff-2.2.1-py3-none-any.whl.metadata (14 kB)\n",
      "Requirement already satisfied: typing-extensions in /opt/homebrew/anaconda3/lib/python3.11/site-packages (from unstructured) (4.9.0)\n",
      "Collecting unstructured-client (from unstructured)\n",
      "  Downloading unstructured_client-0.24.0-py3-none-any.whl.metadata (12 kB)\n",
      "Requirement already satisfied: wrapt in /opt/homebrew/anaconda3/lib/python3.11/site-packages (from unstructured) (1.14.1)\n",
      "Requirement already satisfied: tqdm in /opt/homebrew/anaconda3/lib/python3.11/site-packages (from unstructured) (4.66.4)\n",
      "Requirement already satisfied: psutil in /opt/homebrew/anaconda3/lib/python3.11/site-packages (from unstructured) (5.9.0)\n",
      "Requirement already satisfied: soupsieve>1.2 in /opt/homebrew/anaconda3/lib/python3.11/site-packages (from beautifulsoup4->unstructured) (2.5)\n",
      "Requirement already satisfied: marshmallow<4.0.0,>=3.18.0 in /opt/homebrew/anaconda3/lib/python3.11/site-packages (from dataclasses-json->unstructured) (3.21.3)\n",
      "Requirement already satisfied: typing-inspect<1,>=0.4.0 in /opt/homebrew/anaconda3/lib/python3.11/site-packages (from dataclasses-json->unstructured) (0.9.0)\n",
      "Requirement already satisfied: six in /opt/homebrew/anaconda3/lib/python3.11/site-packages (from langdetect->unstructured) (1.16.0)\n",
      "Requirement already satisfied: click in /opt/homebrew/anaconda3/lib/python3.11/site-packages (from nltk->unstructured) (8.1.7)\n",
      "Requirement already satisfied: joblib in /opt/homebrew/anaconda3/lib/python3.11/site-packages (from nltk->unstructured) (1.2.0)\n",
      "Requirement already satisfied: regex>=2021.8.3 in /opt/homebrew/anaconda3/lib/python3.11/site-packages (from nltk->unstructured) (2023.10.3)\n",
      "Requirement already satisfied: charset-normalizer<4,>=2 in /opt/homebrew/anaconda3/lib/python3.11/site-packages (from requests->unstructured) (2.0.4)\n",
      "Requirement already satisfied: idna<4,>=2.5 in /opt/homebrew/anaconda3/lib/python3.11/site-packages (from requests->unstructured) (3.4)\n",
      "Requirement already satisfied: urllib3<3,>=1.21.1 in /opt/homebrew/anaconda3/lib/python3.11/site-packages (from requests->unstructured) (2.0.7)\n",
      "Requirement already satisfied: certifi>=2017.4.17 in /opt/homebrew/anaconda3/lib/python3.11/site-packages (from requests->unstructured) (2024.2.2)\n",
      "Collecting charset-normalizer<4,>=2 (from requests->unstructured)\n",
      "  Downloading charset_normalizer-3.3.2-cp311-cp311-macosx_11_0_arm64.whl.metadata (33 kB)\n",
      "Collecting deepdiff>=6.0 (from unstructured-client->unstructured)\n",
      "  Downloading deepdiff-7.0.1-py3-none-any.whl.metadata (6.8 kB)\n",
      "Collecting httpx>=0.27.0 (from unstructured-client->unstructured)\n",
      "  Using cached httpx-0.27.0-py3-none-any.whl.metadata (7.2 kB)\n",
      "Collecting jsonpath-python>=1.0.6 (from unstructured-client->unstructured)\n",
      "  Downloading jsonpath_python-1.0.6-py3-none-any.whl.metadata (12 kB)\n",
      "Requirement already satisfied: mypy-extensions>=1.0.0 in /opt/homebrew/anaconda3/lib/python3.11/site-packages (from unstructured-client->unstructured) (1.0.0)\n",
      "Requirement already satisfied: nest-asyncio>=1.6.0 in /opt/homebrew/anaconda3/lib/python3.11/site-packages (from unstructured-client->unstructured) (1.6.0)\n",
      "Requirement already satisfied: packaging>=23.1 in /opt/homebrew/anaconda3/lib/python3.11/site-packages (from unstructured-client->unstructured) (24.1)\n",
      "Collecting pypdf>=4.0 (from unstructured-client->unstructured)\n",
      "  Downloading pypdf-4.2.0-py3-none-any.whl.metadata (7.4 kB)\n",
      "Requirement already satisfied: python-dateutil>=2.8.2 in /opt/homebrew/anaconda3/lib/python3.11/site-packages (from unstructured-client->unstructured) (2.8.2)\n",
      "Requirement already satisfied: requests-toolbelt>=1.0.0 in /opt/homebrew/anaconda3/lib/python3.11/site-packages (from unstructured-client->unstructured) (1.0.0)\n",
      "Collecting ordered-set<4.2.0,>=4.1.0 (from deepdiff>=6.0->unstructured-client->unstructured)\n",
      "  Downloading ordered_set-4.1.0-py3-none-any.whl.metadata (5.3 kB)\n",
      "Requirement already satisfied: anyio in /opt/homebrew/anaconda3/lib/python3.11/site-packages (from httpx>=0.27.0->unstructured-client->unstructured) (4.2.0)\n",
      "Collecting httpcore==1.* (from httpx>=0.27.0->unstructured-client->unstructured)\n",
      "  Using cached httpcore-1.0.5-py3-none-any.whl.metadata (20 kB)\n",
      "Requirement already satisfied: sniffio in /opt/homebrew/anaconda3/lib/python3.11/site-packages (from httpx>=0.27.0->unstructured-client->unstructured) (1.3.0)\n",
      "Requirement already satisfied: h11<0.15,>=0.13 in /opt/homebrew/anaconda3/lib/python3.11/site-packages (from httpcore==1.*->httpx>=0.27.0->unstructured-client->unstructured) (0.14.0)\n",
      "Downloading unstructured-0.14.10-py3-none-any.whl (2.1 MB)\n",
      "\u001b[2K   \u001b[90m━━━━━━━━━━━━━━━━━━━━━━━━━━━━━━━━━━━━━━━━\u001b[0m \u001b[32m2.1/2.1 MB\u001b[0m \u001b[31m16.9 MB/s\u001b[0m eta \u001b[36m0:00:00\u001b[0m00:01\u001b[0m00:01\u001b[0m\n",
      "\u001b[?25hDownloading backoff-2.2.1-py3-none-any.whl (15 kB)\n",
      "Downloading emoji-2.12.1-py3-none-any.whl (431 kB)\n",
      "\u001b[2K   \u001b[90m━━━━━━━━━━━━━━━━━━━━━━━━━━━━━━━━━━━━━━━━\u001b[0m \u001b[32m431.4/431.4 kB\u001b[0m \u001b[31m14.8 MB/s\u001b[0m eta \u001b[36m0:00:00\u001b[0m\n",
      "\u001b[?25hDownloading filetype-1.2.0-py2.py3-none-any.whl (19 kB)\n",
      "Downloading python_iso639-2024.4.27-py3-none-any.whl (274 kB)\n",
      "\u001b[2K   \u001b[90m━━━━━━━━━━━━━━━━━━━━━━━━━━━━━━━━━━━━━━━━\u001b[0m \u001b[32m274.7/274.7 kB\u001b[0m \u001b[31m14.1 MB/s\u001b[0m eta \u001b[36m0:00:00\u001b[0m\n",
      "\u001b[?25hDownloading rapidfuzz-3.9.4-cp311-cp311-macosx_11_0_arm64.whl (1.5 MB)\n",
      "\u001b[2K   \u001b[90m━━━━━━━━━━━━━━━━━━━━━━━━━━━━━━━━━━━━━━━━\u001b[0m \u001b[32m1.5/1.5 MB\u001b[0m \u001b[31m16.9 MB/s\u001b[0m eta \u001b[36m0:00:00\u001b[0ma \u001b[36m0:00:01\u001b[0m\n",
      "\u001b[?25hDownloading unstructured_client-0.24.0-py3-none-any.whl (40 kB)\n",
      "\u001b[2K   \u001b[90m━━━━━━━━━━━━━━━━━━━━━━━━━━━━━━━━━━━━━━━━\u001b[0m \u001b[32m41.0/41.0 kB\u001b[0m \u001b[31m5.8 MB/s\u001b[0m eta \u001b[36m0:00:00\u001b[0m\n",
      "\u001b[?25hDownloading charset_normalizer-3.3.2-cp311-cp311-macosx_11_0_arm64.whl (118 kB)\n",
      "\u001b[2K   \u001b[90m━━━━━━━━━━━━━━━━━━━━━━━━━━━━━━━━━━━━━━━━\u001b[0m \u001b[32m119.0/119.0 kB\u001b[0m \u001b[31m11.0 MB/s\u001b[0m eta \u001b[36m0:00:00\u001b[0m\n",
      "\u001b[?25hDownloading deepdiff-7.0.1-py3-none-any.whl (80 kB)\n",
      "\u001b[2K   \u001b[90m━━━━━━━━━━━━━━━━━━━━━━━━━━━━━━━━━━━━━━━━\u001b[0m \u001b[32m80.8/80.8 kB\u001b[0m \u001b[31m9.6 MB/s\u001b[0m eta \u001b[36m0:00:00\u001b[0m\n",
      "\u001b[?25hUsing cached httpx-0.27.0-py3-none-any.whl (75 kB)\n",
      "Using cached httpcore-1.0.5-py3-none-any.whl (77 kB)\n",
      "Downloading jsonpath_python-1.0.6-py3-none-any.whl (7.6 kB)\n",
      "Downloading pypdf-4.2.0-py3-none-any.whl (290 kB)\n",
      "\u001b[2K   \u001b[90m━━━━━━━━━━━━━━━━━━━━━━━━━━━━━━━━━━━━━━━━\u001b[0m \u001b[32m290.4/290.4 kB\u001b[0m \u001b[31m13.8 MB/s\u001b[0m eta \u001b[36m0:00:00\u001b[0m\n",
      "\u001b[?25hDownloading ordered_set-4.1.0-py3-none-any.whl (7.6 kB)\n",
      "Building wheels for collected packages: langdetect\n",
      "  Building wheel for langdetect (setup.py) ... \u001b[?25ldone\n",
      "\u001b[?25h  Created wheel for langdetect: filename=langdetect-1.0.9-py3-none-any.whl size=993224 sha256=5511168721f96b7805d342ebc36c2e73705134fef24a6d480ddffa1a6d190690\n",
      "  Stored in directory: /Users/salmanmohamm3d/Library/Caches/pip/wheels/0a/f2/b2/e5ca405801e05eb7c8ed5b3b4bcf1fcabcd6272c167640072e\n",
      "Successfully built langdetect\n",
      "Installing collected packages: filetype, rapidfuzz, python-iso639, pypdf, ordered-set, langdetect, jsonpath-python, httpcore, emoji, charset-normalizer, backoff, httpx, deepdiff, unstructured-client, unstructured\n",
      "  Attempting uninstall: charset-normalizer\n",
      "    Found existing installation: charset-normalizer 2.0.4\n",
      "    Uninstalling charset-normalizer-2.0.4:\n",
      "      Successfully uninstalled charset-normalizer-2.0.4\n",
      "Successfully installed backoff-2.2.1 charset-normalizer-3.3.2 deepdiff-7.0.1 emoji-2.12.1 filetype-1.2.0 httpcore-1.0.5 httpx-0.27.0 jsonpath-python-1.0.6 langdetect-1.0.9 ordered-set-4.1.0 pypdf-4.2.0 python-iso639-2024.4.27 rapidfuzz-3.9.4 unstructured-0.14.10 unstructured-client-0.24.0\n",
      "Note: you may need to restart the kernel to use updated packages.\n"
     ]
    }
   ],
   "source": [
    "pip install unstructured\n"
   ]
  },
  {
   "cell_type": "markdown",
   "id": "a2e7820e-4f0c-499d-9a2d-fc6d3b379e84",
   "metadata": {},
   "source": [
    "#### As we gonna deal with unstructured data from the url we are importing UnstructuredURLLoader classs from langchain"
   ]
  },
  {
   "cell_type": "code",
   "execution_count": 1,
   "id": "43b53975-d1e5-45cb-b899-ae25a0e7bd8f",
   "metadata": {},
   "outputs": [],
   "source": [
    "from langchain.document_loaders import UnstructuredURLLoader"
   ]
  },
  {
   "cell_type": "code",
   "execution_count": 2,
   "id": "9ec16273-592d-4439-8d07-58f1cad99fcc",
   "metadata": {},
   "outputs": [],
   "source": [
    "import nltk\n",
    "\n"
   ]
  },
  {
   "cell_type": "code",
   "execution_count": 11,
   "id": "037f7969-94b0-461a-8d7b-77c95c13d9e5",
   "metadata": {},
   "outputs": [],
   "source": [
    "loaders = UnstructuredURLLoader(urls = [\"https://www.moneycontrol.com/automobile/bmw-recalling-more-than-390000-vehicles-due-to-airbag-inflator-issue-article-12766259.html\",\n",
    "                              \"https://www.moneycontrol.com/automobile/in-a-boost-for-toyota-indian-state-cuts-levies-on-hybrid-cars-article-12766254.html\"      ])"
   ]
  },
  {
   "cell_type": "code",
   "execution_count": 12,
   "id": "3863387d-347b-43d1-90f5-52571a2437b2",
   "metadata": {},
   "outputs": [
    {
     "data": {
      "text/plain": [
       "2"
      ]
     },
     "execution_count": 12,
     "metadata": {},
     "output_type": "execute_result"
    }
   ],
   "source": [
    "data = loaders.load()\n",
    "len(data)"
   ]
  },
  {
   "cell_type": "code",
   "execution_count": 13,
   "id": "72bb699b-8206-434e-b345-9d5b6e5baac1",
   "metadata": {},
   "outputs": [
    {
     "data": {
      "text/plain": [
       "Document(metadata={'source': 'https://www.moneycontrol.com/automobile/in-a-boost-for-toyota-indian-state-cuts-levies-on-hybrid-cars-article-12766254.html'}, page_content='English\\n\\nHindi\\n\\nGujarati\\n\\nSpecials\\n\\nMoneycontrol Trending Stock\\n\\nInfosys\\xa0INE009A01021, INFY, 500209\\n\\nState Bank of India\\xa0INE062A01020, SBIN, 500112\\n\\nYes Bank\\xa0INE528G01027, YESBANK, 532648\\n\\nBank Nifty\\n\\nNifty 500\\n\\nQuotes\\n\\nMutual Funds\\n\\nCommodities\\n\\nFutures & Options\\n\\nCurrency\\n\\nNews\\n\\nCryptocurrency\\n\\nForum\\n\\nNotices\\n\\nVideos\\n\\nGlossary\\n\\nAll\\n\\nHello, Login Hello, LoginLog-inor Sign-UpMy AccountMy Profile My PortfolioMy WatchlistFREE Credit Score₹100 Cash RewardMy AlertsMy MessagesPrice AlertsMy Profile My PROMy PortfolioMy WatchlistFREE Credit Score₹100 Cash RewardMy AlertsMy MessagesPrice AlertsLogoutChat with UsDownload AppFollow us on:\\n\\nGo Ad-Free\\n\\nMy Alerts\\n\\nBudget 2        24MarketsHOMEINDIAN INDICESSTOCK ACTIONAll StatsTop GainersTop LosersOnly BuyersOnly Sellers52 Week High52 Week LowPrice ShockersVolume ShockersMost Active StocksGLOBAL MARKETSUS MARKETSSEASONALITY ANALYSISSTOCK SCANNERECONOMIC INDICATORSECONOMIC CALENDARMARKET ACTIONDashboardF&OFII & DII ActivityCorporate ActionEARNINGSCOMMODITYPRE MARKETRESEARCHAdviceBroker ResearchTechnicalsCURRENCYCRYPTOCURRENCYBIG SHARK PORTFOLIOSTECHNICAL TRENDSIPOBONDSWEBINARINTERVIEW SERIESOTHERSCryptocurrency NewsToolsNewsLATEST NEWSBudget 2024BUSINESSEconomyCompaniesMutual FundsPersonal FinanceIPOStartupReal EstateNATION & WORLDIndiaWorldPoliticsMARKETSStocksTechnical AnalysisEquity ResearchCommoditiesCurrencyGold RateSilver RateAQISPECIALTrendsLatest NewsOpinionExplainersMC BuzzMC FeaturesMC LearnTECHNOLOGYPersonal TechAutoFintechMEDIAPodcastPhotosVideosWeb StoriesCRYPTOCURRENCYOTHERSEntertainmentSportsLifestyleHealth and FitnessEducationJobsScienceAstroTravelTechPortfolioWatchlistCommoditiesMutual FundsEXPLOREHomeFind FundTop Ranked FundsPerformance TrackerSIP Performance TrackerETF PerformanceNFOTop Performing CategoriesLearnTOOLSReturns CalculatorLumpsum SIP BalancerDelay Cost CalculatorSIP ReturnMF FORUMTRACKYour MF InvestmentMF PricesMC 30Personal FinanceEXPLOREHomeInvestingInsuranceBankingFinancial PlanningPropertyToolsVideoAsk ExpertExplainerIncome Tax Filing GuideNPSFIXED DEPOSITFixed Deposit ComparisonFixed Deposit Interest CalculatorCorporate DepositsLOANS & CREDIT CARDSHomeLoans\\t\\t\\t\\t\\t\\t\\t\\t\\t\\t\\t\\t\\xa0Car Loan CalculatorHome Loan CalculatorEducation Loan CalculatorCredit Card Debit Payoff CalculatorTAXIncome tax Filing GuideIncome Tax CalculatorEmergency Fund CalculatorTOOLSProvident Fund CalculatorAssets Allocation PlanningDebt Reduction PlannerDebt Evaluation CalculatorCurrent Expense CalculatorFREE CREDIT SCORE₹100 Cash RewardREAL ESTATE : TRENDS & ANALYTICSMC 30MONEYCONTROL - SECURENOW HEALTH INSURANCE RATINGSGOLD PRICE TODAYUpcoming Chat | Previous TranscriptsAll Schedule | Previous TranscriptForumEXPLORE FORUMHomepageMembership RulesForum TopicsAsk the ExpertTop BoardersUSER PROFILEFORUM TOPICSLatest ThreadsStocksIndexGoldPersonal FinanceJust PostedMF FORUMPOLLSLatest PollsHistorical PollsMarket SentimentsSUPPORTFAQsCode of ConductFeedbackWrite to usVideosVIDEOSHomepageVideos on DemandMarkets with Santo & CJMorning TradeCommodities chat with Manisha GuptaLet`s Talk JobsThe TenantDrive ReportBajar GupshupBits To BillionsPODCASTHomepagePodcast on DemandThe Week on Dalal StreetMarket MinutesMC Special PodcastSimply SavePolicy TalksLIVE TVHindiGujaratiInvest NowEXPERT TRADING GUIDANCEPowered By Trading Advisories, Courses & Webinars by Top Verified Experts.Unlock Your Trading Potential: Trade like Experts with SEBI registered creators, Learn from Courses & Webinars by India\\'s Finest Finance Experts.Invest NowINVEST IN CRYPTOCURRENCIESPowered By Invest in top cryptocurrencies all over the worldSee the top gainers, losers, invest and get updated what\\'s happening in the crypto marketInvest NowPRO BusinessMarketsStocksEconomyCompaniesTrendsIPOOpinionEV Special\\n\\n>->\\n\\nGo PRO @₹99\\n\\nPRO\\n\\n\\n\\nBudget 2        24\\n\\nMarketsHOMEINDIAN INDICESSTOCK ACTIONAll StatsTop GainersTop LosersOnly BuyersOnly Sellers52 Week High52 Week LowPrice ShockersVolume ShockersMost Active StocksGLOBAL MARKETSUS MARKETSSEASONALITY ANALYSISSTOCK SCANNERECONOMIC INDICATORSECONOMIC CALENDARMARKET ACTIONDashboardF&OFII & DII ActivityCorporate ActionEARNINGSCOMMODITYPRE MARKETRESEARCHAdviceBroker ResearchTechnicalsCURRENCYCRYPTOCURRENCYBIG SHARK PORTFOLIOSTECHNICAL TRENDSIPOBONDSWEBINARINTERVIEW SERIESOTHERSCryptocurrency NewsTools\\n\\nNewsLATEST NEWSBudget 2024BUSINESSEconomyCompaniesMutual FundsPersonal FinanceIPOStartupReal EstateNATION & WORLDIndiaWorldPoliticsMARKETSStocksTechnical AnalysisEquity ResearchCommoditiesCurrencyGold RateSilver RateAQISPECIALTrendsLatest NewsOpinionExplainersMC BuzzMC FeaturesMC LearnTECHNOLOGYPersonal TechAutoFintechMEDIAPodcastPhotosVideosWeb StoriesCRYPTOCURRENCYOTHERSEntertainmentSportsLifestyleHealth and FitnessEducationJobsScienceAstroTravel\\n\\nTech\\n\\nPortfolio\\n\\nWatchlist\\n\\nCommodities\\n\\nMutual FundsEXPLOREHomeFind FundTop Ranked FundsPerformance TrackerSIP Performance TrackerETF PerformanceNFOTop Performing CategoriesLearnTOOLSReturns CalculatorLumpsum SIP BalancerDelay Cost CalculatorSIP ReturnMF FORUMTRACKYour MF InvestmentMF PricesMC 30\\n\\nPersonal FinanceEXPLOREHomeInvestingInsuranceBankingFinancial PlanningPropertyToolsVideoAsk ExpertExplainerIncome Tax Filing GuideNPSFIXED DEPOSITFixed Deposit ComparisonFixed Deposit Interest CalculatorCorporate DepositsLOANS & CREDIT CARDSHomeLoans\\t\\t\\t\\t\\t\\t\\t\\t\\t\\t\\t\\t\\xa0Car Loan CalculatorHome Loan CalculatorEducation Loan CalculatorCredit Card Debit Payoff CalculatorTAXIncome tax Filing GuideIncome Tax CalculatorEmergency Fund CalculatorTOOLSProvident Fund CalculatorAssets Allocation PlanningDebt Reduction PlannerDebt Evaluation CalculatorCurrent Expense CalculatorFREE CREDIT SCORE₹100 Cash RewardREAL ESTATE : TRENDS & ANALYTICSMC 30MONEYCONTROL - SECURENOW HEALTH INSURANCE RATINGSGOLD PRICE TODAYUpcoming Chat | Previous TranscriptsAll Schedule | Previous Transcript\\n\\nForumEXPLORE FORUMHomepageMembership RulesForum TopicsAsk the ExpertTop BoardersUSER PROFILEFORUM TOPICSLatest ThreadsStocksIndexGoldPersonal FinanceJust PostedMF FORUMPOLLSLatest PollsHistorical PollsMarket SentimentsSUPPORTFAQsCode of ConductFeedbackWrite to us\\n\\nVideosVIDEOSHomepageVideos on DemandMarkets with Santo & CJMorning TradeCommodities chat with Manisha GuptaLet`s Talk JobsThe TenantDrive ReportBajar GupshupBits To BillionsPODCASTHomepagePodcast on DemandThe Week on Dalal StreetMarket MinutesMC Special PodcastSimply SavePolicy TalksLIVE TVHindiGujarati\\n\\nInvest NowEXPERT TRADING GUIDANCEPowered By Trading Advisories, Courses & Webinars by Top Verified Experts.Unlock Your Trading Potential: Trade like Experts with SEBI registered creators, Learn from Courses & Webinars by India\\'s Finest Finance Experts.Invest NowINVEST IN CRYPTOCURRENCIESPowered By Invest in top cryptocurrencies all over the worldSee the top gainers, losers, invest and get updated what\\'s happening in the crypto marketInvest Now\\n\\nPRO\\n\\nBusiness\\n\\nMarkets\\n\\nStocks\\n\\nEconomy\\n\\nCompanies\\n\\nTrends\\n\\nIPO\\n\\nOpinion\\n\\nEV Special\\n\\nHome\\n\\nAutomobile\\n\\nIn a boost for Toyota, Indian state cuts levies on hybrid cars\\n\\nThe government of India\\'s most populous state will also waive the registration tax on some hybrid car sales, it said in a July 5 notification\\n\\nReuters\\n\\nJuly 10, 2024 / 05:53 PM IST\\n\\n\\n\\n\\n\\n\\n\\n\\n\\n\\n\\n\\n\\nIn a boost for Toyota, Indian state cuts levies on hybrid cars\\n\\nA move by India\\'s Uttar Pradesh state to waive some levies on hybrid cars will make them 10% cheaper, delivering Japan\\'s Toyota Motor a big win in lobbying efforts and raising industry and analyst expectations that other states could follow suit.\\n\\nJust as it does with electric cars, the government of India\\'s most populous state will also waive the registration tax on some hybrid car sales, it said in a July 5 notification.\\n\\nStory continues below Advertisement\\n\\nRemove Ad\\n\\nHybrid cars offer fuel savings as they operate on both electric motors and combustion engines.\\n\\nShares of Maruti Suzuki, India\\'s top carmaker which produces and sells hybrid cars in partnership with Toyota, have surged 5.5% since local media reported on the state\\'s notification for the first time this week.\\n\\n\"This is a sizeable incentive provided by a state for hybrid cars. Uttar Pradesh\\'s move could encourage other states to follow,\" Morgan Stanley said in a note, adding that with more hybrid models to come, their share of total sales will rise.\\n\\nRelated stories\\n\\nMC Exclusive: Hybrid Cars could see a budget boost with potential cess cut\\n\\nNo diesel, petrol cars in India soon? Here\\'s what Nitin Gadkari proposes for greener economy\\n\\nToyota group plans $4.7 billion sale of Denso stake as electric pivot looms\\n\\nUttar Pradesh accounts for 10% of India\\'s total car sales.\\n\\nToyota, which holds an 85% share of India\\'s \\'strong\\' hybrid car market with its fast-selling Hycross and Hyryder SUVs, is \"likely to be a key beneficiary of this move, followed by Maruti Suzuki,\" Nomura said in a note.\\n\\nToyota and Maruti Suzuki did not respond to Reuters queries.\\n\\nStory continues below Advertisement\\n\\nRemove Ad\\n\\nThe state\\'s levy exemptions apply to so-called strong hybrids, which can run on electric motors for a while, and to plug-in hybrids.\\n\\nStrong hybrid models made up less than 3%, or about 28,000 units, of India\\'s total car sales of 1 million in January-March this year, while EVs made up nearly 4%, according to Nomura.\\n\\nHIGH LEVY ON HYBRIDS\\n\\nIndian Prime Minister Narendra Modi\\'s government has focused its green mobility push on electric vehicles, offering companies millions of dollars in incentives to build such cars, while giving no concessions for hybrids.\\n\\nIndia\\'s federal sales tax on EVs is just 5%, while the levy on hybrids is as high as 43%, close to the 48% imposed on petrol cars. Registration taxes levied by a state are separate, increasing the overall car cost.\\n\\nHonda Motor, which sells a strong hybrid variant of its popular City sedan in India, said the decision would \"undoubtedly attract a larger set of customers to join the nation\\'s green mobility mission\".\\n\\nToyota, the world\\'s biggest carmaker, has long lobbied Modi\\'s government to cut taxes on hybrids, which it argues pollute less than petrol cars but receive scant policy support.\\n\\nThese lobbying efforts have been opposed by domestic players like Tata Motors and Mahindra & Mahindra that have placed large bets and investments on EVs and do not want the government to change its policy or taxation stance.\\n\\nHyundai Motor is evaluating plans to launch its first hybrid car in India as early as 2026, and Mahindra said in May it was \"closely looking at\" hybrid technology.\\n\\nReuters\\n\\nTags:\\n\\n#hybrid cars\\n\\n#Toyota Motor\\n\\nfirst published: Jul 10, 2024 05:53 pm\\n\\nDiscover the latest business news, Sensex, and Nifty updates. Obtain Personal Finance insights, tax queries, and expert opinions on Moneycontrol or download the Moneycontrol App to stay updated!\\n\\nAdvertisement\\n\\nRemove Ad\\n\\nTrending news\\n\\nEx-Google executive who worked with tech giant for 12 years offers 3 life lessons: \\'Try to envision how...\\'\\n\\nZepto sells 100g coriander for Rs 141, Blinkit for Rs 40: \\'No one will give dhania for free,\\' says internet\\n\\nZomato celebrates \\'16th janamdin\\' with quirky newspaper ad. Paytm CEO hearts it\\n\\nAther CEO\\'s witty retort to Nikhil Kamath’s \\'sh*t marketing\\' jibe: \\'Isko discount...\\'\\n\\nOla\\'s Bhavish Aggarwal stands for kurta, urges young professionals to embrace Indian culture. Watch\\n\\nAdvisory Alert:\\n\\ngrievanceofficer@nw18.com or call on 02268882347\\n\\nForum\\n\\nFacebook\\n\\nTwitter\\n\\nInstagram\\n\\nLinkedin\\n\\nRSS\\n\\nPortfolio\\n\\nMarkets\\n\\nWatchlist\\n\\nLive TV Show\\n\\nCurrencies\\n\\nFREE Credit Score₹100 Cash Reward\\n\\nCommodities\\n\\nFixed Income\\n\\nPersonal Finance\\n\\nMutual Fund\\n\\nPre-Market\\n\\nIPO\\n\\nGlobal Market\\n\\nBudget 2024\\n\\nElections 2024\\n\\nGold Rate\\n\\nBSE Sensex\\n\\nForum\\n\\nMC 30\\n\\nNews\\n\\nBusiness\\n\\nMarkets\\n\\nStocks\\n\\nIncome Tax Calculator\\n\\nIndia News\\n\\nT20 World Cup Points Table\\n\\nITR Filing 2023-24\\n\\nEconomy\\n\\nMutual Funds\\n\\nPersonal Finance\\n\\nIPO News\\n\\nStartups\\n\\nStocks:\\n\\nA |\\n\\nB |\\n\\nC |\\n\\nD |\\n\\nE |\\n\\nF |\\n\\nG |\\n\\nH |\\n\\nI |\\n\\nJ |\\n\\nK |\\n\\nL |\\n\\nM |\\n\\nN |\\n\\nO |\\n\\nP |\\n\\nQ |\\n\\nR |\\n\\nS |\\n\\nT |\\n\\nU |\\n\\nV |\\n\\nW |\\n\\nX |\\n\\nY |\\n\\nZ |\\n\\nOthers\\n\\nMutual Funds:\\n\\nA \\r\\n             |\\n\\nB \\r\\n             |\\n\\nC \\r\\n             |\\n\\nD \\r\\n             |\\n\\nE \\r\\n             |\\n\\nF \\r\\n             |\\n\\nG \\r\\n             |\\n\\nH \\r\\n             |\\n\\nI \\r\\n             |\\n\\nJ \\r\\n             |\\n\\nK \\r\\n             |\\n\\nL \\r\\n             |\\n\\nM \\r\\n             |\\n\\nN \\r\\n             |\\n\\nO \\r\\n             |\\n\\nP \\r\\n             |\\n\\nQ \\r\\n             |\\n\\nR \\r\\n             |\\n\\nS \\r\\n             |\\n\\nT \\r\\n             |\\n\\nU \\r\\n             |\\n\\nV \\r\\n             |\\n\\nW \\r\\n             |\\n\\nX \\r\\n             |\\n\\nY \\r\\n             |\\n\\nVisit the App Store to see all our apps:\\n\\nDownload from Google Play\\n\\nDownload from APP Store\\n\\nDownload from Windows Phone\\n\\nTools\\n\\nRetirement Planning\\n\\nEMI Calculator\\n\\nSIP Calculator\\n\\nSIP Planner\\n\\nUseful Links\\n\\nCrypto News\\n\\nBank Holidays in India\\n\\nGold Rate Today\\n\\nSilver Rate Today\\n\\nTrending News\\n\\nStartups\\n\\nNational News\\n\\nMC Videos\\n\\nMC You Tube\\n\\nHouse Purchase Index\\n\\nBest Portfolio Manager\\n\\nSmall Savings Schemes\\n\\nBonds\\n\\nTopperLearning\\n\\nClear Study Doubts\\n\\nEducation Franchisee Opportunity\\n\\nSpecials\\n\\nMaster Your Money\\n\\nGame Changers\\n\\nInvestment Watch\\n\\nPowerYourTrade\\n\\nMoneyBhai\\n\\nFocus\\n\\nSME Step Up\\n\\nNetwork 18 Sites\\n\\nNews18\\n\\nFirstpost\\n\\nCNBC TV18\\n\\nNews18 Hindi\\n\\nCricketnext\\n\\nOverdrive\\n\\nTopper Learning\\n\\nAbout us |\\n\\nContact Us |\\n\\nAdvisory Alert |\\n\\nAdvertise with Us |\\n\\nSupport |\\n\\nDisclaimer |\\n\\nPrivacy Policy |\\n\\nCookie Policy |\\n\\nTerms & Conditions |\\n\\nCareers |\\n\\nFinancial Terms (Glossary) |\\n\\nFAQs |\\n\\nSitemap |\\n\\nRSS Feed |\\n\\nInvestors\\n\\nCopyright © e-Eighteen.com Ltd. All rights reserved. Reproduction of news articles, photos, videos or any other content in whole or in part in any form \\r\\n        or medium without express writtern permission of moneycontrol.com is prohibited.\\n\\nYou got 30 Day’s Trial of\\n\\nGrab it Now\\n\\nAd-Free Experience\\n\\nTop Articles from Financial Times\\n\\nActionable Insights\\n\\nMC Research\\n\\nEconomic Calendar\\n\\n& Many More\\n\\nYou are already a Moneycontrol Pro user.\\n\\n101Reporters')"
      ]
     },
     "execution_count": 13,
     "metadata": {},
     "output_type": "execute_result"
    }
   ],
   "source": [
    "data[1]"
   ]
  },
  {
   "cell_type": "code",
   "execution_count": 14,
   "id": "d4f182d4-0dc1-4346-be23-a609b53edaa9",
   "metadata": {},
   "outputs": [
    {
     "data": {
      "text/plain": [
       "{'source': 'https://www.moneycontrol.com/automobile/in-a-boost-for-toyota-indian-state-cuts-levies-on-hybrid-cars-article-12766254.html'}"
      ]
     },
     "execution_count": 14,
     "metadata": {},
     "output_type": "execute_result"
    }
   ],
   "source": [
    "data[1].metadata"
   ]
  },
  {
   "cell_type": "markdown",
   "id": "3aba5f11-c22a-4d6a-ba97-b5ef04ae7e3b",
   "metadata": {},
   "source": [
    "### Now we need to break this block of text in to small chunks because any LLM has will have the token size limit"
   ]
  },
  {
   "cell_type": "code",
   "execution_count": 20,
   "id": "4ccbc392-de9b-40bd-b3f7-e18bb52b2dcb",
   "metadata": {},
   "outputs": [
    {
     "ename": "NameError",
     "evalue": "name 'r_splitter' is not defined",
     "output_type": "error",
     "traceback": [
      "\u001b[0;31m---------------------------------------------------------------------------\u001b[0m",
      "\u001b[0;31mNameError\u001b[0m                                 Traceback (most recent call last)",
      "Cell \u001b[0;32mIn[20], line 9\u001b[0m\n\u001b[1;32m      1\u001b[0m \u001b[38;5;28;01mfrom\u001b[39;00m \u001b[38;5;21;01mlangchain\u001b[39;00m\u001b[38;5;21;01m.\u001b[39;00m\u001b[38;5;21;01mtext_splitter\u001b[39;00m \u001b[38;5;28;01mimport\u001b[39;00m RecursiveCharacterTextSplitter\n\u001b[1;32m      3\u001b[0m RecursiveCharacterTextSplitter(\n\u001b[1;32m      4\u001b[0m     separators \u001b[38;5;241m=\u001b[39m [\u001b[38;5;124m\"\u001b[39m\u001b[38;5;130;01m\\n\u001b[39;00m\u001b[38;5;130;01m\\n\u001b[39;00m\u001b[38;5;124m\"\u001b[39m, \u001b[38;5;124m\"\u001b[39m\u001b[38;5;130;01m\\n\u001b[39;00m\u001b[38;5;124m\"\u001b[39m , \u001b[38;5;124m\"\u001b[39m\u001b[38;5;124m \u001b[39m\u001b[38;5;124m\"\u001b[39m],\n\u001b[1;32m      5\u001b[0m     chunk_size \u001b[38;5;241m=\u001b[39m\u001b[38;5;241m200\u001b[39m,\n\u001b[1;32m      6\u001b[0m     chunk_overlap \u001b[38;5;241m=\u001b[39m\u001b[38;5;241m0\u001b[39m\n\u001b[1;32m      7\u001b[0m )\n\u001b[0;32m----> 9\u001b[0m chunks \u001b[38;5;241m=\u001b[39m r_splitter\u001b[38;5;241m.\u001b[39msplit_text(text)\n\u001b[1;32m     10\u001b[0m \u001b[38;5;28mlen\u001b[39m(chunks)\n",
      "\u001b[0;31mNameError\u001b[0m: name 'r_splitter' is not defined"
     ]
    }
   ],
   "source": []
  },
  {
   "cell_type": "code",
   "execution_count": 29,
   "id": "f74ebf08-8392-4041-91e4-6a743b1255a3",
   "metadata": {},
   "outputs": [
    {
     "name": "stdout",
     "output_type": "stream",
     "text": [
      "Collecting langchain-openai\n",
      "  Downloading langchain_openai-0.1.15-py3-none-any.whl.metadata (2.5 kB)\n",
      "Collecting langchain-core<0.3.0,>=0.2.13 (from langchain-openai)\n",
      "  Downloading langchain_core-0.2.13-py3-none-any.whl.metadata (6.0 kB)\n",
      "Requirement already satisfied: openai<2.0.0,>=1.32.0 in /opt/homebrew/anaconda3/lib/python3.11/site-packages (from langchain-openai) (1.35.13)\n",
      "Collecting tiktoken<1,>=0.7 (from langchain-openai)\n",
      "  Downloading tiktoken-0.7.0-cp311-cp311-macosx_11_0_arm64.whl.metadata (6.6 kB)\n",
      "Requirement already satisfied: PyYAML>=5.3 in /opt/homebrew/anaconda3/lib/python3.11/site-packages (from langchain-core<0.3.0,>=0.2.13->langchain-openai) (6.0.1)\n",
      "Requirement already satisfied: jsonpatch<2.0,>=1.33 in /opt/homebrew/anaconda3/lib/python3.11/site-packages (from langchain-core<0.3.0,>=0.2.13->langchain-openai) (1.33)\n",
      "Requirement already satisfied: langsmith<0.2.0,>=0.1.75 in /opt/homebrew/anaconda3/lib/python3.11/site-packages (from langchain-core<0.3.0,>=0.2.13->langchain-openai) (0.1.84)\n",
      "Requirement already satisfied: packaging<25,>=23.2 in /opt/homebrew/anaconda3/lib/python3.11/site-packages (from langchain-core<0.3.0,>=0.2.13->langchain-openai) (24.1)\n",
      "Requirement already satisfied: pydantic<3,>=1 in /opt/homebrew/anaconda3/lib/python3.11/site-packages (from langchain-core<0.3.0,>=0.2.13->langchain-openai) (1.10.12)\n",
      "Requirement already satisfied: tenacity!=8.4.0,<9.0.0,>=8.1.0 in /opt/homebrew/anaconda3/lib/python3.11/site-packages (from langchain-core<0.3.0,>=0.2.13->langchain-openai) (8.2.2)\n",
      "Requirement already satisfied: anyio<5,>=3.5.0 in /opt/homebrew/anaconda3/lib/python3.11/site-packages (from openai<2.0.0,>=1.32.0->langchain-openai) (4.2.0)\n",
      "Requirement already satisfied: distro<2,>=1.7.0 in /opt/homebrew/anaconda3/lib/python3.11/site-packages (from openai<2.0.0,>=1.32.0->langchain-openai) (1.8.0)\n",
      "Requirement already satisfied: httpx<1,>=0.23.0 in /opt/homebrew/anaconda3/lib/python3.11/site-packages (from openai<2.0.0,>=1.32.0->langchain-openai) (0.27.0)\n",
      "Requirement already satisfied: sniffio in /opt/homebrew/anaconda3/lib/python3.11/site-packages (from openai<2.0.0,>=1.32.0->langchain-openai) (1.3.0)\n",
      "Requirement already satisfied: tqdm>4 in /opt/homebrew/anaconda3/lib/python3.11/site-packages (from openai<2.0.0,>=1.32.0->langchain-openai) (4.66.4)\n",
      "Requirement already satisfied: typing-extensions<5,>=4.7 in /opt/homebrew/anaconda3/lib/python3.11/site-packages (from openai<2.0.0,>=1.32.0->langchain-openai) (4.9.0)\n",
      "Requirement already satisfied: regex>=2022.1.18 in /opt/homebrew/anaconda3/lib/python3.11/site-packages (from tiktoken<1,>=0.7->langchain-openai) (2023.10.3)\n",
      "Requirement already satisfied: requests>=2.26.0 in /opt/homebrew/anaconda3/lib/python3.11/site-packages (from tiktoken<1,>=0.7->langchain-openai) (2.31.0)\n",
      "Requirement already satisfied: idna>=2.8 in /opt/homebrew/anaconda3/lib/python3.11/site-packages (from anyio<5,>=3.5.0->openai<2.0.0,>=1.32.0->langchain-openai) (3.4)\n",
      "Requirement already satisfied: certifi in /opt/homebrew/anaconda3/lib/python3.11/site-packages (from httpx<1,>=0.23.0->openai<2.0.0,>=1.32.0->langchain-openai) (2024.2.2)\n",
      "Requirement already satisfied: httpcore==1.* in /opt/homebrew/anaconda3/lib/python3.11/site-packages (from httpx<1,>=0.23.0->openai<2.0.0,>=1.32.0->langchain-openai) (1.0.5)\n",
      "Requirement already satisfied: h11<0.15,>=0.13 in /opt/homebrew/anaconda3/lib/python3.11/site-packages (from httpcore==1.*->httpx<1,>=0.23.0->openai<2.0.0,>=1.32.0->langchain-openai) (0.14.0)\n",
      "Requirement already satisfied: jsonpointer>=1.9 in /opt/homebrew/anaconda3/lib/python3.11/site-packages (from jsonpatch<2.0,>=1.33->langchain-core<0.3.0,>=0.2.13->langchain-openai) (2.1)\n",
      "Requirement already satisfied: orjson<4.0.0,>=3.9.14 in /opt/homebrew/anaconda3/lib/python3.11/site-packages (from langsmith<0.2.0,>=0.1.75->langchain-core<0.3.0,>=0.2.13->langchain-openai) (3.10.6)\n",
      "Requirement already satisfied: charset-normalizer<4,>=2 in /opt/homebrew/anaconda3/lib/python3.11/site-packages (from requests>=2.26.0->tiktoken<1,>=0.7->langchain-openai) (3.3.2)\n",
      "Requirement already satisfied: urllib3<3,>=1.21.1 in /opt/homebrew/anaconda3/lib/python3.11/site-packages (from requests>=2.26.0->tiktoken<1,>=0.7->langchain-openai) (2.0.7)\n",
      "Downloading langchain_openai-0.1.15-py3-none-any.whl (46 kB)\n",
      "\u001b[2K   \u001b[90m━━━━━━━━━━━━━━━━━━━━━━━━━━━━━━━━━━━━━━━━\u001b[0m \u001b[32m46.1/46.1 kB\u001b[0m \u001b[31m3.3 MB/s\u001b[0m eta \u001b[36m0:00:00\u001b[0m\n",
      "\u001b[?25hDownloading langchain_core-0.2.13-py3-none-any.whl (357 kB)\n",
      "\u001b[2K   \u001b[90m━━━━━━━━━━━━━━━━━━━━━━━━━━━━━━━━━━━━━━━━\u001b[0m \u001b[32m357.9/357.9 kB\u001b[0m \u001b[31m13.6 MB/s\u001b[0m eta \u001b[36m0:00:00\u001b[0m\n",
      "\u001b[?25hDownloading tiktoken-0.7.0-cp311-cp311-macosx_11_0_arm64.whl (907 kB)\n",
      "\u001b[2K   \u001b[90m━━━━━━━━━━━━━━━━━━━━━━━━━━━━━━━━━━━━━━━━\u001b[0m \u001b[32m907.0/907.0 kB\u001b[0m \u001b[31m16.3 MB/s\u001b[0m eta \u001b[36m0:00:00\u001b[0ma \u001b[36m0:00:01\u001b[0m\n",
      "\u001b[?25hInstalling collected packages: tiktoken, langchain-core, langchain-openai\n",
      "  Attempting uninstall: langchain-core\n",
      "    Found existing installation: langchain-core 0.2.12\n",
      "    Uninstalling langchain-core-0.2.12:\n",
      "      Successfully uninstalled langchain-core-0.2.12\n",
      "Successfully installed langchain-core-0.2.13 langchain-openai-0.1.15 tiktoken-0.7.0\n",
      "Note: you may need to restart the kernel to use updated packages.\n"
     ]
    }
   ],
   "source": [
    "pip install -U langchain-openai"
   ]
  },
  {
   "cell_type": "code",
   "execution_count": 30,
   "id": "bacb37f0-e4f2-46cc-89a1-381096096d26",
   "metadata": {},
   "outputs": [],
   "source": [
    "import os \n",
    "import streamlit as st\n",
    "import pickle \n",
    "import time\n",
    "import langchain\n",
    "from langchain import OpenAI\n",
    "from langchain.chains import RetrievalQAWithSourcesChain\n",
    "from langchain.chains.qa_with_sources.loading import load_qa_with_sources_chain\n",
    "from  langchain.text_splitter import RecursiveCharacterTextSplitter\n",
    "from langchain.document_loaders import UnstructuredURLLoader\n",
    "from langchain.embeddings import OpenAIEmbeddings\n",
    "from langchain.vectorstores import FAISS\n",
    "from langchain_openai import OpenAI\n"
   ]
  },
  {
   "cell_type": "code",
   "execution_count": 26,
   "id": "a4ed9e5f-bdba-4103-9581-46e0c37730bc",
   "metadata": {},
   "outputs": [],
   "source": [
    "os.environ['OPENAI_API_KEY'] = 'sk-proj-jt47Ou7275NY6cAZrkVVT3BlbkFJhPlaLpynxRPeK1yVK36g'"
   ]
  },
  {
   "cell_type": "code",
   "execution_count": 27,
   "id": "8d728682-79d9-4e25-8de1-1a3b5df8394a",
   "metadata": {},
   "outputs": [],
   "source": [
    "#"
   ]
  },
  {
   "cell_type": "code",
   "execution_count": 31,
   "id": "8ec18731-39e4-41c3-9b28-8a79c2a10912",
   "metadata": {},
   "outputs": [
    {
     "data": {
      "text/plain": [
       "2"
      ]
     },
     "execution_count": 31,
     "metadata": {},
     "output_type": "execute_result"
    }
   ],
   "source": [
    "# Initialize LLM with required params\n",
    "llm = OpenAI(temperature = 0.9 , max_tokens = 500)\n",
    "\n",
    "loaders = UnstructuredURLLoader(urls = [\"https://www.moneycontrol.com/automobile/bmw-recalling-more-than-390000-vehicles-due-to-airbag-inflator-issue-article-12766259.html\",\n",
    "                              \"https://www.moneycontrol.com/automobile/in-a-boost-for-toyota-indian-state-cuts-levies-on-hybrid-cars-article-12766254.html\"      ])\n",
    "\n",
    "data = loaders.load()\n",
    "len(data)"
   ]
  },
  {
   "cell_type": "code",
   "execution_count": 34,
   "id": "e30d465c-23e2-48bc-b1e2-f05e8070275a",
   "metadata": {},
   "outputs": [
    {
     "data": {
      "text/plain": [
       "35"
      ]
     },
     "execution_count": 34,
     "metadata": {},
     "output_type": "execute_result"
    }
   ],
   "source": [
    "\n",
    "text_splitter = RecursiveCharacterTextSplitter(\n",
    "    chunk_size =1000,\n",
    "    chunk_overlap =200\n",
    ")\n",
    "\n",
    "docs = text_splitter.split_documents(data)\n",
    "len(docs)\n"
   ]
  },
  {
   "cell_type": "code",
   "execution_count": 35,
   "id": "8c71672c-fecb-4e6c-9708-93afa23c5a9b",
   "metadata": {},
   "outputs": [
    {
     "data": {
      "text/plain": [
       "Document(metadata={'source': 'https://www.moneycontrol.com/automobile/bmw-recalling-more-than-390000-vehicles-due-to-airbag-inflator-issue-article-12766259.html'}, page_content='Associated Press\\n\\nJuly 10, 2024 / 06:00 PM IST\\n\\n\\n\\n\\n\\n\\n\\n\\n\\n\\n\\n\\n\\nBMW recalling more than 390,000 vehicles due to airbag inflator issue\\n\\nBMW of North America is recalling more than 390,000 vehicles in the U.S. because they are equipped with airbag inflators that can explode, leading to a potentially serious injury or death.\\n\\nThe original steering wheel may have been replaced with a sport or M-sport steering wheel equipped with a Takata inflator, the agency said.\\n\\nStory continues below Advertisement\\n\\nRemove Ad\\n\\nIf the inflator explodes, it may result in sharp metal fragments striking the driver or other occupants of a vehicle, resulting in serious injury or death, the NHTSA said.\\n\\nBMW has not received any reports of any accidents or injuries in the U.S. that may be related to this issue, according to the latest report.')"
      ]
     },
     "execution_count": 35,
     "metadata": {},
     "output_type": "execute_result"
    }
   ],
   "source": [
    "docs[10]"
   ]
  },
  {
   "cell_type": "code",
   "execution_count": 36,
   "id": "57438c2d-2b26-43af-9a0e-239db35bcec4",
   "metadata": {},
   "outputs": [
    {
     "name": "stderr",
     "output_type": "stream",
     "text": [
      "/opt/homebrew/anaconda3/lib/python3.11/site-packages/langchain_core/_api/deprecation.py:139: LangChainDeprecationWarning: The class `OpenAIEmbeddings` was deprecated in LangChain 0.0.9 and will be removed in 0.3.0. An updated version of the class exists in the langchain-openai package and should be used instead. To use it run `pip install -U langchain-openai` and import as `from langchain_openai import OpenAIEmbeddings`.\n",
      "  warn_deprecated(\n"
     ]
    },
    {
     "ename": "RateLimitError",
     "evalue": "Error code: 429 - {'error': {'message': 'You exceeded your current quota, please check your plan and billing details. For more information on this error, read the docs: https://platform.openai.com/docs/guides/error-codes/api-errors.', 'type': 'insufficient_quota', 'param': None, 'code': 'insufficient_quota'}}",
     "output_type": "error",
     "traceback": [
      "\u001b[0;31m---------------------------------------------------------------------------\u001b[0m",
      "\u001b[0;31mRateLimitError\u001b[0m                            Traceback (most recent call last)",
      "Cell \u001b[0;32mIn[36], line 3\u001b[0m\n\u001b[1;32m      1\u001b[0m embeddings \u001b[38;5;241m=\u001b[39m OpenAIEmbeddings()\n\u001b[0;32m----> 3\u001b[0m vectorinex_openai \u001b[38;5;241m=\u001b[39m FAISS\u001b[38;5;241m.\u001b[39mfrom_documents(docs, embeddings)\n",
      "File \u001b[0;32m/opt/homebrew/anaconda3/lib/python3.11/site-packages/langchain_core/vectorstores/base.py:989\u001b[0m, in \u001b[0;36mVectorStore.from_documents\u001b[0;34m(cls, documents, embedding, **kwargs)\u001b[0m\n\u001b[1;32m    987\u001b[0m texts \u001b[38;5;241m=\u001b[39m [d\u001b[38;5;241m.\u001b[39mpage_content \u001b[38;5;28;01mfor\u001b[39;00m d \u001b[38;5;129;01min\u001b[39;00m documents]\n\u001b[1;32m    988\u001b[0m metadatas \u001b[38;5;241m=\u001b[39m [d\u001b[38;5;241m.\u001b[39mmetadata \u001b[38;5;28;01mfor\u001b[39;00m d \u001b[38;5;129;01min\u001b[39;00m documents]\n\u001b[0;32m--> 989\u001b[0m \u001b[38;5;28;01mreturn\u001b[39;00m \u001b[38;5;28mcls\u001b[39m\u001b[38;5;241m.\u001b[39mfrom_texts(texts, embedding, metadatas\u001b[38;5;241m=\u001b[39mmetadatas, \u001b[38;5;241m*\u001b[39m\u001b[38;5;241m*\u001b[39mkwargs)\n",
      "File \u001b[0;32m/opt/homebrew/anaconda3/lib/python3.11/site-packages/langchain_community/vectorstores/faiss.py:930\u001b[0m, in \u001b[0;36mFAISS.from_texts\u001b[0;34m(cls, texts, embedding, metadatas, ids, **kwargs)\u001b[0m\n\u001b[1;32m    903\u001b[0m \u001b[38;5;129m@classmethod\u001b[39m\n\u001b[1;32m    904\u001b[0m \u001b[38;5;28;01mdef\u001b[39;00m \u001b[38;5;21mfrom_texts\u001b[39m(\n\u001b[1;32m    905\u001b[0m     \u001b[38;5;28mcls\u001b[39m,\n\u001b[0;32m   (...)\u001b[0m\n\u001b[1;32m    910\u001b[0m     \u001b[38;5;241m*\u001b[39m\u001b[38;5;241m*\u001b[39mkwargs: Any,\n\u001b[1;32m    911\u001b[0m ) \u001b[38;5;241m-\u001b[39m\u001b[38;5;241m>\u001b[39m FAISS:\n\u001b[1;32m    912\u001b[0m \u001b[38;5;250m    \u001b[39m\u001b[38;5;124;03m\"\"\"Construct FAISS wrapper from raw documents.\u001b[39;00m\n\u001b[1;32m    913\u001b[0m \n\u001b[1;32m    914\u001b[0m \u001b[38;5;124;03m    This is a user friendly interface that:\u001b[39;00m\n\u001b[0;32m   (...)\u001b[0m\n\u001b[1;32m    928\u001b[0m \u001b[38;5;124;03m            faiss = FAISS.from_texts(texts, embeddings)\u001b[39;00m\n\u001b[1;32m    929\u001b[0m \u001b[38;5;124;03m    \"\"\"\u001b[39;00m\n\u001b[0;32m--> 930\u001b[0m     embeddings \u001b[38;5;241m=\u001b[39m embedding\u001b[38;5;241m.\u001b[39membed_documents(texts)\n\u001b[1;32m    931\u001b[0m     \u001b[38;5;28;01mreturn\u001b[39;00m \u001b[38;5;28mcls\u001b[39m\u001b[38;5;241m.\u001b[39m__from(\n\u001b[1;32m    932\u001b[0m         texts,\n\u001b[1;32m    933\u001b[0m         embeddings,\n\u001b[0;32m   (...)\u001b[0m\n\u001b[1;32m    937\u001b[0m         \u001b[38;5;241m*\u001b[39m\u001b[38;5;241m*\u001b[39mkwargs,\n\u001b[1;32m    938\u001b[0m     )\n",
      "File \u001b[0;32m/opt/homebrew/anaconda3/lib/python3.11/site-packages/langchain_community/embeddings/openai.py:672\u001b[0m, in \u001b[0;36mOpenAIEmbeddings.embed_documents\u001b[0;34m(self, texts, chunk_size)\u001b[0m\n\u001b[1;32m    669\u001b[0m \u001b[38;5;66;03m# NOTE: to keep things simple, we assume the list may contain texts longer\u001b[39;00m\n\u001b[1;32m    670\u001b[0m \u001b[38;5;66;03m#       than the maximum context and use length-safe embedding function.\u001b[39;00m\n\u001b[1;32m    671\u001b[0m engine \u001b[38;5;241m=\u001b[39m cast(\u001b[38;5;28mstr\u001b[39m, \u001b[38;5;28mself\u001b[39m\u001b[38;5;241m.\u001b[39mdeployment)\n\u001b[0;32m--> 672\u001b[0m \u001b[38;5;28;01mreturn\u001b[39;00m \u001b[38;5;28mself\u001b[39m\u001b[38;5;241m.\u001b[39m_get_len_safe_embeddings(texts, engine\u001b[38;5;241m=\u001b[39mengine)\n",
      "File \u001b[0;32m/opt/homebrew/anaconda3/lib/python3.11/site-packages/langchain_community/embeddings/openai.py:498\u001b[0m, in \u001b[0;36mOpenAIEmbeddings._get_len_safe_embeddings\u001b[0;34m(self, texts, engine, chunk_size)\u001b[0m\n\u001b[1;32m    496\u001b[0m batched_embeddings: List[List[\u001b[38;5;28mfloat\u001b[39m]] \u001b[38;5;241m=\u001b[39m []\n\u001b[1;32m    497\u001b[0m \u001b[38;5;28;01mfor\u001b[39;00m i \u001b[38;5;129;01min\u001b[39;00m _iter:\n\u001b[0;32m--> 498\u001b[0m     response \u001b[38;5;241m=\u001b[39m embed_with_retry(\n\u001b[1;32m    499\u001b[0m         \u001b[38;5;28mself\u001b[39m,\n\u001b[1;32m    500\u001b[0m         \u001b[38;5;28minput\u001b[39m\u001b[38;5;241m=\u001b[39mtokens[i : i \u001b[38;5;241m+\u001b[39m _chunk_size],\n\u001b[1;32m    501\u001b[0m         \u001b[38;5;241m*\u001b[39m\u001b[38;5;241m*\u001b[39m\u001b[38;5;28mself\u001b[39m\u001b[38;5;241m.\u001b[39m_invocation_params,\n\u001b[1;32m    502\u001b[0m     )\n\u001b[1;32m    503\u001b[0m     \u001b[38;5;28;01mif\u001b[39;00m \u001b[38;5;129;01mnot\u001b[39;00m \u001b[38;5;28misinstance\u001b[39m(response, \u001b[38;5;28mdict\u001b[39m):\n\u001b[1;32m    504\u001b[0m         response \u001b[38;5;241m=\u001b[39m response\u001b[38;5;241m.\u001b[39mdict()\n",
      "File \u001b[0;32m/opt/homebrew/anaconda3/lib/python3.11/site-packages/langchain_community/embeddings/openai.py:120\u001b[0m, in \u001b[0;36membed_with_retry\u001b[0;34m(embeddings, **kwargs)\u001b[0m\n\u001b[1;32m    118\u001b[0m \u001b[38;5;250m\u001b[39m\u001b[38;5;124;03m\"\"\"Use tenacity to retry the embedding call.\"\"\"\u001b[39;00m\n\u001b[1;32m    119\u001b[0m \u001b[38;5;28;01mif\u001b[39;00m is_openai_v1():\n\u001b[0;32m--> 120\u001b[0m     \u001b[38;5;28;01mreturn\u001b[39;00m embeddings\u001b[38;5;241m.\u001b[39mclient\u001b[38;5;241m.\u001b[39mcreate(\u001b[38;5;241m*\u001b[39m\u001b[38;5;241m*\u001b[39mkwargs)\n\u001b[1;32m    121\u001b[0m retry_decorator \u001b[38;5;241m=\u001b[39m _create_retry_decorator(embeddings)\n\u001b[1;32m    123\u001b[0m \u001b[38;5;129m@retry_decorator\u001b[39m\n\u001b[1;32m    124\u001b[0m \u001b[38;5;28;01mdef\u001b[39;00m \u001b[38;5;21m_embed_with_retry\u001b[39m(\u001b[38;5;241m*\u001b[39m\u001b[38;5;241m*\u001b[39mkwargs: Any) \u001b[38;5;241m-\u001b[39m\u001b[38;5;241m>\u001b[39m Any:\n",
      "File \u001b[0;32m/opt/homebrew/anaconda3/lib/python3.11/site-packages/openai/resources/embeddings.py:114\u001b[0m, in \u001b[0;36mEmbeddings.create\u001b[0;34m(self, input, model, dimensions, encoding_format, user, extra_headers, extra_query, extra_body, timeout)\u001b[0m\n\u001b[1;32m    108\u001b[0m         embedding\u001b[38;5;241m.\u001b[39membedding \u001b[38;5;241m=\u001b[39m np\u001b[38;5;241m.\u001b[39mfrombuffer(  \u001b[38;5;66;03m# type: ignore[no-untyped-call]\u001b[39;00m\n\u001b[1;32m    109\u001b[0m             base64\u001b[38;5;241m.\u001b[39mb64decode(data), dtype\u001b[38;5;241m=\u001b[39m\u001b[38;5;124m\"\u001b[39m\u001b[38;5;124mfloat32\u001b[39m\u001b[38;5;124m\"\u001b[39m\n\u001b[1;32m    110\u001b[0m         )\u001b[38;5;241m.\u001b[39mtolist()\n\u001b[1;32m    112\u001b[0m     \u001b[38;5;28;01mreturn\u001b[39;00m obj\n\u001b[0;32m--> 114\u001b[0m \u001b[38;5;28;01mreturn\u001b[39;00m \u001b[38;5;28mself\u001b[39m\u001b[38;5;241m.\u001b[39m_post(\n\u001b[1;32m    115\u001b[0m     \u001b[38;5;124m\"\u001b[39m\u001b[38;5;124m/embeddings\u001b[39m\u001b[38;5;124m\"\u001b[39m,\n\u001b[1;32m    116\u001b[0m     body\u001b[38;5;241m=\u001b[39mmaybe_transform(params, embedding_create_params\u001b[38;5;241m.\u001b[39mEmbeddingCreateParams),\n\u001b[1;32m    117\u001b[0m     options\u001b[38;5;241m=\u001b[39mmake_request_options(\n\u001b[1;32m    118\u001b[0m         extra_headers\u001b[38;5;241m=\u001b[39mextra_headers,\n\u001b[1;32m    119\u001b[0m         extra_query\u001b[38;5;241m=\u001b[39mextra_query,\n\u001b[1;32m    120\u001b[0m         extra_body\u001b[38;5;241m=\u001b[39mextra_body,\n\u001b[1;32m    121\u001b[0m         timeout\u001b[38;5;241m=\u001b[39mtimeout,\n\u001b[1;32m    122\u001b[0m         post_parser\u001b[38;5;241m=\u001b[39mparser,\n\u001b[1;32m    123\u001b[0m     ),\n\u001b[1;32m    124\u001b[0m     cast_to\u001b[38;5;241m=\u001b[39mCreateEmbeddingResponse,\n\u001b[1;32m    125\u001b[0m )\n",
      "File \u001b[0;32m/opt/homebrew/anaconda3/lib/python3.11/site-packages/openai/_base_client.py:1266\u001b[0m, in \u001b[0;36mSyncAPIClient.post\u001b[0;34m(self, path, cast_to, body, options, files, stream, stream_cls)\u001b[0m\n\u001b[1;32m   1252\u001b[0m \u001b[38;5;28;01mdef\u001b[39;00m \u001b[38;5;21mpost\u001b[39m(\n\u001b[1;32m   1253\u001b[0m     \u001b[38;5;28mself\u001b[39m,\n\u001b[1;32m   1254\u001b[0m     path: \u001b[38;5;28mstr\u001b[39m,\n\u001b[0;32m   (...)\u001b[0m\n\u001b[1;32m   1261\u001b[0m     stream_cls: \u001b[38;5;28mtype\u001b[39m[_StreamT] \u001b[38;5;241m|\u001b[39m \u001b[38;5;28;01mNone\u001b[39;00m \u001b[38;5;241m=\u001b[39m \u001b[38;5;28;01mNone\u001b[39;00m,\n\u001b[1;32m   1262\u001b[0m ) \u001b[38;5;241m-\u001b[39m\u001b[38;5;241m>\u001b[39m ResponseT \u001b[38;5;241m|\u001b[39m _StreamT:\n\u001b[1;32m   1263\u001b[0m     opts \u001b[38;5;241m=\u001b[39m FinalRequestOptions\u001b[38;5;241m.\u001b[39mconstruct(\n\u001b[1;32m   1264\u001b[0m         method\u001b[38;5;241m=\u001b[39m\u001b[38;5;124m\"\u001b[39m\u001b[38;5;124mpost\u001b[39m\u001b[38;5;124m\"\u001b[39m, url\u001b[38;5;241m=\u001b[39mpath, json_data\u001b[38;5;241m=\u001b[39mbody, files\u001b[38;5;241m=\u001b[39mto_httpx_files(files), \u001b[38;5;241m*\u001b[39m\u001b[38;5;241m*\u001b[39moptions\n\u001b[1;32m   1265\u001b[0m     )\n\u001b[0;32m-> 1266\u001b[0m     \u001b[38;5;28;01mreturn\u001b[39;00m cast(ResponseT, \u001b[38;5;28mself\u001b[39m\u001b[38;5;241m.\u001b[39mrequest(cast_to, opts, stream\u001b[38;5;241m=\u001b[39mstream, stream_cls\u001b[38;5;241m=\u001b[39mstream_cls))\n",
      "File \u001b[0;32m/opt/homebrew/anaconda3/lib/python3.11/site-packages/openai/_base_client.py:942\u001b[0m, in \u001b[0;36mSyncAPIClient.request\u001b[0;34m(self, cast_to, options, remaining_retries, stream, stream_cls)\u001b[0m\n\u001b[1;32m    933\u001b[0m \u001b[38;5;28;01mdef\u001b[39;00m \u001b[38;5;21mrequest\u001b[39m(\n\u001b[1;32m    934\u001b[0m     \u001b[38;5;28mself\u001b[39m,\n\u001b[1;32m    935\u001b[0m     cast_to: Type[ResponseT],\n\u001b[0;32m   (...)\u001b[0m\n\u001b[1;32m    940\u001b[0m     stream_cls: \u001b[38;5;28mtype\u001b[39m[_StreamT] \u001b[38;5;241m|\u001b[39m \u001b[38;5;28;01mNone\u001b[39;00m \u001b[38;5;241m=\u001b[39m \u001b[38;5;28;01mNone\u001b[39;00m,\n\u001b[1;32m    941\u001b[0m ) \u001b[38;5;241m-\u001b[39m\u001b[38;5;241m>\u001b[39m ResponseT \u001b[38;5;241m|\u001b[39m _StreamT:\n\u001b[0;32m--> 942\u001b[0m     \u001b[38;5;28;01mreturn\u001b[39;00m \u001b[38;5;28mself\u001b[39m\u001b[38;5;241m.\u001b[39m_request(\n\u001b[1;32m    943\u001b[0m         cast_to\u001b[38;5;241m=\u001b[39mcast_to,\n\u001b[1;32m    944\u001b[0m         options\u001b[38;5;241m=\u001b[39moptions,\n\u001b[1;32m    945\u001b[0m         stream\u001b[38;5;241m=\u001b[39mstream,\n\u001b[1;32m    946\u001b[0m         stream_cls\u001b[38;5;241m=\u001b[39mstream_cls,\n\u001b[1;32m    947\u001b[0m         remaining_retries\u001b[38;5;241m=\u001b[39mremaining_retries,\n\u001b[1;32m    948\u001b[0m     )\n",
      "File \u001b[0;32m/opt/homebrew/anaconda3/lib/python3.11/site-packages/openai/_base_client.py:1031\u001b[0m, in \u001b[0;36mSyncAPIClient._request\u001b[0;34m(self, cast_to, options, remaining_retries, stream, stream_cls)\u001b[0m\n\u001b[1;32m   1029\u001b[0m \u001b[38;5;28;01mif\u001b[39;00m retries \u001b[38;5;241m>\u001b[39m \u001b[38;5;241m0\u001b[39m \u001b[38;5;129;01mand\u001b[39;00m \u001b[38;5;28mself\u001b[39m\u001b[38;5;241m.\u001b[39m_should_retry(err\u001b[38;5;241m.\u001b[39mresponse):\n\u001b[1;32m   1030\u001b[0m     err\u001b[38;5;241m.\u001b[39mresponse\u001b[38;5;241m.\u001b[39mclose()\n\u001b[0;32m-> 1031\u001b[0m     \u001b[38;5;28;01mreturn\u001b[39;00m \u001b[38;5;28mself\u001b[39m\u001b[38;5;241m.\u001b[39m_retry_request(\n\u001b[1;32m   1032\u001b[0m         input_options,\n\u001b[1;32m   1033\u001b[0m         cast_to,\n\u001b[1;32m   1034\u001b[0m         retries,\n\u001b[1;32m   1035\u001b[0m         err\u001b[38;5;241m.\u001b[39mresponse\u001b[38;5;241m.\u001b[39mheaders,\n\u001b[1;32m   1036\u001b[0m         stream\u001b[38;5;241m=\u001b[39mstream,\n\u001b[1;32m   1037\u001b[0m         stream_cls\u001b[38;5;241m=\u001b[39mstream_cls,\n\u001b[1;32m   1038\u001b[0m     )\n\u001b[1;32m   1040\u001b[0m \u001b[38;5;66;03m# If the response is streamed then we need to explicitly read the response\u001b[39;00m\n\u001b[1;32m   1041\u001b[0m \u001b[38;5;66;03m# to completion before attempting to access the response text.\u001b[39;00m\n\u001b[1;32m   1042\u001b[0m \u001b[38;5;28;01mif\u001b[39;00m \u001b[38;5;129;01mnot\u001b[39;00m err\u001b[38;5;241m.\u001b[39mresponse\u001b[38;5;241m.\u001b[39mis_closed:\n",
      "File \u001b[0;32m/opt/homebrew/anaconda3/lib/python3.11/site-packages/openai/_base_client.py:1079\u001b[0m, in \u001b[0;36mSyncAPIClient._retry_request\u001b[0;34m(self, options, cast_to, remaining_retries, response_headers, stream, stream_cls)\u001b[0m\n\u001b[1;32m   1075\u001b[0m \u001b[38;5;66;03m# In a synchronous context we are blocking the entire thread. Up to the library user to run the client in a\u001b[39;00m\n\u001b[1;32m   1076\u001b[0m \u001b[38;5;66;03m# different thread if necessary.\u001b[39;00m\n\u001b[1;32m   1077\u001b[0m time\u001b[38;5;241m.\u001b[39msleep(timeout)\n\u001b[0;32m-> 1079\u001b[0m \u001b[38;5;28;01mreturn\u001b[39;00m \u001b[38;5;28mself\u001b[39m\u001b[38;5;241m.\u001b[39m_request(\n\u001b[1;32m   1080\u001b[0m     options\u001b[38;5;241m=\u001b[39moptions,\n\u001b[1;32m   1081\u001b[0m     cast_to\u001b[38;5;241m=\u001b[39mcast_to,\n\u001b[1;32m   1082\u001b[0m     remaining_retries\u001b[38;5;241m=\u001b[39mremaining,\n\u001b[1;32m   1083\u001b[0m     stream\u001b[38;5;241m=\u001b[39mstream,\n\u001b[1;32m   1084\u001b[0m     stream_cls\u001b[38;5;241m=\u001b[39mstream_cls,\n\u001b[1;32m   1085\u001b[0m )\n",
      "File \u001b[0;32m/opt/homebrew/anaconda3/lib/python3.11/site-packages/openai/_base_client.py:1031\u001b[0m, in \u001b[0;36mSyncAPIClient._request\u001b[0;34m(self, cast_to, options, remaining_retries, stream, stream_cls)\u001b[0m\n\u001b[1;32m   1029\u001b[0m \u001b[38;5;28;01mif\u001b[39;00m retries \u001b[38;5;241m>\u001b[39m \u001b[38;5;241m0\u001b[39m \u001b[38;5;129;01mand\u001b[39;00m \u001b[38;5;28mself\u001b[39m\u001b[38;5;241m.\u001b[39m_should_retry(err\u001b[38;5;241m.\u001b[39mresponse):\n\u001b[1;32m   1030\u001b[0m     err\u001b[38;5;241m.\u001b[39mresponse\u001b[38;5;241m.\u001b[39mclose()\n\u001b[0;32m-> 1031\u001b[0m     \u001b[38;5;28;01mreturn\u001b[39;00m \u001b[38;5;28mself\u001b[39m\u001b[38;5;241m.\u001b[39m_retry_request(\n\u001b[1;32m   1032\u001b[0m         input_options,\n\u001b[1;32m   1033\u001b[0m         cast_to,\n\u001b[1;32m   1034\u001b[0m         retries,\n\u001b[1;32m   1035\u001b[0m         err\u001b[38;5;241m.\u001b[39mresponse\u001b[38;5;241m.\u001b[39mheaders,\n\u001b[1;32m   1036\u001b[0m         stream\u001b[38;5;241m=\u001b[39mstream,\n\u001b[1;32m   1037\u001b[0m         stream_cls\u001b[38;5;241m=\u001b[39mstream_cls,\n\u001b[1;32m   1038\u001b[0m     )\n\u001b[1;32m   1040\u001b[0m \u001b[38;5;66;03m# If the response is streamed then we need to explicitly read the response\u001b[39;00m\n\u001b[1;32m   1041\u001b[0m \u001b[38;5;66;03m# to completion before attempting to access the response text.\u001b[39;00m\n\u001b[1;32m   1042\u001b[0m \u001b[38;5;28;01mif\u001b[39;00m \u001b[38;5;129;01mnot\u001b[39;00m err\u001b[38;5;241m.\u001b[39mresponse\u001b[38;5;241m.\u001b[39mis_closed:\n",
      "File \u001b[0;32m/opt/homebrew/anaconda3/lib/python3.11/site-packages/openai/_base_client.py:1079\u001b[0m, in \u001b[0;36mSyncAPIClient._retry_request\u001b[0;34m(self, options, cast_to, remaining_retries, response_headers, stream, stream_cls)\u001b[0m\n\u001b[1;32m   1075\u001b[0m \u001b[38;5;66;03m# In a synchronous context we are blocking the entire thread. Up to the library user to run the client in a\u001b[39;00m\n\u001b[1;32m   1076\u001b[0m \u001b[38;5;66;03m# different thread if necessary.\u001b[39;00m\n\u001b[1;32m   1077\u001b[0m time\u001b[38;5;241m.\u001b[39msleep(timeout)\n\u001b[0;32m-> 1079\u001b[0m \u001b[38;5;28;01mreturn\u001b[39;00m \u001b[38;5;28mself\u001b[39m\u001b[38;5;241m.\u001b[39m_request(\n\u001b[1;32m   1080\u001b[0m     options\u001b[38;5;241m=\u001b[39moptions,\n\u001b[1;32m   1081\u001b[0m     cast_to\u001b[38;5;241m=\u001b[39mcast_to,\n\u001b[1;32m   1082\u001b[0m     remaining_retries\u001b[38;5;241m=\u001b[39mremaining,\n\u001b[1;32m   1083\u001b[0m     stream\u001b[38;5;241m=\u001b[39mstream,\n\u001b[1;32m   1084\u001b[0m     stream_cls\u001b[38;5;241m=\u001b[39mstream_cls,\n\u001b[1;32m   1085\u001b[0m )\n",
      "File \u001b[0;32m/opt/homebrew/anaconda3/lib/python3.11/site-packages/openai/_base_client.py:1046\u001b[0m, in \u001b[0;36mSyncAPIClient._request\u001b[0;34m(self, cast_to, options, remaining_retries, stream, stream_cls)\u001b[0m\n\u001b[1;32m   1043\u001b[0m         err\u001b[38;5;241m.\u001b[39mresponse\u001b[38;5;241m.\u001b[39mread()\n\u001b[1;32m   1045\u001b[0m     log\u001b[38;5;241m.\u001b[39mdebug(\u001b[38;5;124m\"\u001b[39m\u001b[38;5;124mRe-raising status error\u001b[39m\u001b[38;5;124m\"\u001b[39m)\n\u001b[0;32m-> 1046\u001b[0m     \u001b[38;5;28;01mraise\u001b[39;00m \u001b[38;5;28mself\u001b[39m\u001b[38;5;241m.\u001b[39m_make_status_error_from_response(err\u001b[38;5;241m.\u001b[39mresponse) \u001b[38;5;28;01mfrom\u001b[39;00m \u001b[38;5;28;01mNone\u001b[39;00m\n\u001b[1;32m   1048\u001b[0m \u001b[38;5;28;01mreturn\u001b[39;00m \u001b[38;5;28mself\u001b[39m\u001b[38;5;241m.\u001b[39m_process_response(\n\u001b[1;32m   1049\u001b[0m     cast_to\u001b[38;5;241m=\u001b[39mcast_to,\n\u001b[1;32m   1050\u001b[0m     options\u001b[38;5;241m=\u001b[39moptions,\n\u001b[0;32m   (...)\u001b[0m\n\u001b[1;32m   1053\u001b[0m     stream_cls\u001b[38;5;241m=\u001b[39mstream_cls,\n\u001b[1;32m   1054\u001b[0m )\n",
      "\u001b[0;31mRateLimitError\u001b[0m: Error code: 429 - {'error': {'message': 'You exceeded your current quota, please check your plan and billing details. For more information on this error, read the docs: https://platform.openai.com/docs/guides/error-codes/api-errors.', 'type': 'insufficient_quota', 'param': None, 'code': 'insufficient_quota'}}"
     ]
    }
   ],
   "source": [
    "embeddings = OpenAIEmbeddings()\n",
    "\n",
    "vectorinex_openai = FAISS.from_documents(docs, embeddings)"
   ]
  },
  {
   "cell_type": "code",
   "execution_count": null,
   "id": "ab2f47eb-42ca-4a27-a247-f1c39815c1f3",
   "metadata": {},
   "outputs": [],
   "source": []
  }
 ],
 "metadata": {
  "kernelspec": {
   "display_name": "Python 3 (ipykernel)",
   "language": "python",
   "name": "python3"
  },
  "language_info": {
   "codemirror_mode": {
    "name": "ipython",
    "version": 3
   },
   "file_extension": ".py",
   "mimetype": "text/x-python",
   "name": "python",
   "nbconvert_exporter": "python",
   "pygments_lexer": "ipython3",
   "version": "3.11.7"
  }
 },
 "nbformat": 4,
 "nbformat_minor": 5
}
